{
 "cells": [
  {
   "cell_type": "code",
   "execution_count": 1,
   "metadata": {},
   "outputs": [],
   "source": [
    "import numpy as np\n",
    "from numpy import random as np_rand\n",
    "import matplotlib.pyplot as plt\n",
    "\n",
    "import kernels as kernel"
   ]
  },
  {
   "cell_type": "markdown",
   "metadata": {},
   "source": [
    "## Kernel classification\n",
    "Kernel 1: Linear kernel\n",
    "\n",
    "$K(x,y) = x^T y$"
   ]
  },
  {
   "cell_type": "code",
   "execution_count": 2,
   "metadata": {},
   "outputs": [],
   "source": [
    "# Set number of training data\n",
    "nPlus = 20\n",
    "nMinus = 20\n",
    "n = nPlus + nMinus\n",
    "\n",
    "# Positive data centered at (1,1) with SD = 1\n",
    "xPlus = np_rand.normal(1,1,(2,nPlus))\n",
    "# Negative data centered at (-1,-1) with SD = 2\n",
    "xMinus = np_rand.normal(-1,2,(2,nMinus))\n",
    "# Concatenate datasets into one\n",
    "x = np.hstack((xPlus,xMinus)) \n",
    "\n",
    "# Training data labels\n",
    "y = np.hstack(([1]*nPlus,[-1]*nMinus))  \n",
    "\n",
    "# Empty kernel matrices\n",
    "kPlus = np.zeros((nPlus,nPlus))\n",
    "kMinus = np.zeros((nMinus,nMinus))\n",
    "\n",
    "# Calculate K matrix for all plus data\n",
    "for ii in range(nPlus):\n",
    "    for jj in range(nPlus):\n",
    "        kPlus[ii,jj]= kernel.linear(xPlus[:,ii],xPlus[:,jj])\n",
    "\n",
    "# Calculate K matrix for all minus data\n",
    "for ii in range(nMinus):\n",
    "    for jj in range(nMinus):        \n",
    "        kMinus[ii,jj]= kernel.linear(xMinus[:,ii],xMinus[:,jj])"
   ]
  },
  {
   "cell_type": "markdown",
   "metadata": {},
   "source": [
    "## Prediction\n",
    "$y = sgn \\left( \\sum\\limits_{i=1}^{n} \\alpha_i k(x, x_i) +b \\right)$\n",
    "\n",
    "where\n",
    "\n",
    "$\\alpha_i = \\begin{cases} \n",
    "               \\frac{1}{n_{+}} & \\text{if } y_i = +1 \\\\\n",
    "               \\frac{1}{n_{-}} & \\text{if } y_i =-1 \n",
    "             \\end{cases}$\n",
    "             \n",
    "$b = \\frac{1}{2} \\left( \\frac{1}{n_{-}^2} \\sum \\limits_{(i,j)|y_i=y_j=-1} k(x_i, x_j) - \\frac{1}{n_{+}^2} \\sum \\limits_{(i,j)|y_i=y_j=+1} k(x_i, x_j)\\right)$"
   ]
  },
  {
   "cell_type": "code",
   "execution_count": 3,
   "metadata": {},
   "outputs": [
    {
     "data": {
      "image/png": "[encoded data removed]",
      "text/plain": [
       "<Figure size 432x288 with 1 Axes>"
      ]
     },
     "metadata": {
      "needs_background": "light"
     },
     "output_type": "display_data"
    }
   ],
   "source": [
    "# Calculate offset for kernel classification\n",
    "alpha = np.hstack(([1/nPlus]*nPlus,[-1/nMinus]*nMinus))\n",
    "b = (np.sum(kMinus)/(nMinus**2)-np.sum(kPlus)/(nPlus**2))/2\n",
    "\n",
    "# Create gradient map- test kernel classifier over grid\n",
    "xMin = np.min(x)\n",
    "xMax = np.max(x)\n",
    "g = np.linspace(xMin-1,xMax+1,n)\n",
    "y_hat = np.zeros((n,n))\n",
    "k_x = np.zeros(n)\n",
    "\n",
    "for ii in range(n):\n",
    "    for jj in range(n):\n",
    "        u=np.vstack((g[ii],g[jj]))\n",
    "        for kk in range(n):\n",
    "            k_x[kk]=kernel.linear(x[:,kk],u)\n",
    "        y_hat[ii,jj]=np.dot(k_x,alpha)+b\n",
    "        \n",
    "# Plot kernel prediction map\n",
    "plt.figure()\n",
    "plt.contourf(g,g,y_hat,0)   \n",
    "plt.plot(xPlus[0,:],xPlus[1,:],'bo',label='Plus')\n",
    "plt.plot(xMinus[0,:],xMinus[1,:],'ro',label='Minus')\n",
    "plt.legend(loc='upper right', bbox_to_anchor=(1.25, 1.0));   "
   ]
  },
  {
   "cell_type": "markdown",
   "metadata": {},
   "source": [
    "## Testing"
   ]
  },
  {
   "cell_type": "code",
   "execution_count": 4,
   "metadata": {},
   "outputs": [
    {
     "data": {
      "image/png": "[encoded data removed]",
      "text/plain": [
       "<Figure size 432x288 with 1 Axes>"
      ]
     },
     "metadata": {
      "needs_background": "light"
     },
     "output_type": "display_data"
    }
   ],
   "source": [
    "# Test data\n",
    "nPlus_t = 10\n",
    "nMinus_t = 10\n",
    "n_t = nPlus_t + nMinus_t\n",
    "\n",
    "# Generate test data and labels\n",
    "xPlus_t = np_rand.normal(1,1,(2,nPlus_t))\n",
    "xMinus_t = np_rand.normal(-1,2,(2,nMinus_t))\n",
    "x_t = np.hstack((xPlus_t,xMinus_t))\n",
    "y_t = np.hstack(([1]*nPlus_t,[-1]*nMinus_t))\n",
    "\n",
    "k_test = np.zeros((n,n_t))\n",
    "\n",
    "for ii in range(n):\n",
    "    for jj in range(n_t):\n",
    "        k_test[ii,jj] = alpha[ii]*kernel.linear(x[:,ii],x_t[:,jj])\n",
    "\n",
    "# Predictions\n",
    "y_est    = np.sum(k_test,axis=0)+b\n",
    "prePlus  = np.argwhere(y_est>0)\n",
    "preMinus = np.argwhere(y_est<0)\n",
    "\n",
    "# Plot prediction\n",
    "plt.figure()\n",
    "plt.contourf(g,g,y_hat,0)   \n",
    "plt.plot(xPlus[0,:],xPlus[1,:],'bo',label='Positive Train')\n",
    "plt.plot(xMinus[0,:],xMinus[1,:],'ro',label='Negative Train')\n",
    "\n",
    "plt.plot(xPlus_t[0,:],xPlus_t[1,:],'bP',markersize=20,label='Positive Test')\n",
    "plt.plot(xMinus_t[0,:],xMinus_t[1,:],'rP',markersize=20,label='Negative Test')\n",
    "plt.plot(x_t[0,prePlus],x_t[1,prePlus],'+b',markersize=40,label='Positive Predict')\n",
    "plt.plot(x_t[0,preMinus],x_t[1,preMinus],'+r',markersize=40,label='Negative Predict')\n",
    "plt.legend(loc='upper right', bbox_to_anchor=(1.42, 1.03));"
   ]
  },
  {
   "cell_type": "markdown",
   "metadata": {},
   "source": [
    "## Try out other kernels\n",
    "Kernel 2: Polynomial\n",
    "\n",
    "$K(x,y) = (x^T y + r)^n$"
   ]
  },
  {
   "cell_type": "code",
   "execution_count": 5,
   "metadata": {},
   "outputs": [
    {
     "data": {
      "image/png": "[encoded data removed]",
      "text/plain": [
       "<Figure size 432x288 with 1 Axes>"
      ]
     },
     "metadata": {
      "needs_background": "light"
     },
     "output_type": "display_data"
    }
   ],
   "source": [
    "# Empty kernel matrices\n",
    "kPlus = np.zeros((nPlus,nPlus))\n",
    "kMinus = np.zeros((nMinus,nMinus))\n",
    "\n",
    "def k(x,y):\n",
    "    r = 1\n",
    "    n = 2\n",
    "    return kernel.polynomial(x,y,r,n)\n",
    "\n",
    "# Calculate K matrix for all plus data\n",
    "for ii in range(nPlus):\n",
    "    for jj in range(nPlus):\n",
    "        kPlus[ii,jj]= k(xPlus[:,ii],xPlus[:,jj])\n",
    "\n",
    "# Calculate K matrix for all minus data\n",
    "for ii in range(nMinus):\n",
    "    for jj in range(nMinus):        \n",
    "        kMinus[ii,jj]= k(xMinus[:,ii],xMinus[:,jj])\n",
    "        \n",
    "# Calculate offset for kernel classification\n",
    "b = (np.sum(kMinus)/(nMinus**2)-np.sum(kPlus)/(nPlus**2))/2\n",
    "\n",
    "# Create gradient map- test kernel classifier over grid\n",
    "y_hat = np.zeros((n,n))\n",
    "k_x = np.zeros(n)\n",
    "\n",
    "for ii in range(n):\n",
    "    for jj in range(n):\n",
    "        u=np.vstack((g[ii],g[jj]))\n",
    "        for kk in range(n):\n",
    "            k_x[kk]=k(x[:,kk],u)\n",
    "        y_hat[ii,jj]=np.dot(k_x,alpha)+b\n",
    "        \n",
    "# Plot kernel prediction map\n",
    "plt.figure()\n",
    "plt.contourf(g,g,y_hat,0)   \n",
    "plt.plot(xPlus[0,:],xPlus[1,:],'bo',label='Plus')\n",
    "plt.plot(xMinus[0,:],xMinus[1,:],'ro',label='Minus')\n",
    "plt.legend(loc='upper right', bbox_to_anchor=(1.25, 1.0));   "
   ]
  },
  {
   "cell_type": "markdown",
   "metadata": {},
   "source": [
    "Kernel 3: Radial Basis Function\n",
    "\n",
    "$K(x,y) = e^{-\\frac{||x-y||^2}{2 \\sigma^2}}$"
   ]
  },
  {
   "cell_type": "code",
   "execution_count": 6,
   "metadata": {},
   "outputs": [
    {
     "data": {
      "image/png": "[encoded data removed]",
      "text/plain": [
       "<Figure size 432x288 with 1 Axes>"
      ]
     },
     "metadata": {
      "needs_background": "light"
     },
     "output_type": "display_data"
    }
   ],
   "source": [
    "# Empty kernel matrices\n",
    "kPlus = np.zeros((nPlus,nPlus))\n",
    "kMinus = np.zeros((nMinus,nMinus))\n",
    "\n",
    "def k(x,y):\n",
    "    sig = 2\n",
    "    return kernel.rbf(x,y,sig)\n",
    "\n",
    "# Calculate K matrix for all plus data\n",
    "for ii in range(nPlus):\n",
    "    for jj in range(nPlus):\n",
    "        kPlus[ii,jj]= k(xPlus[:,ii],xPlus[:,jj])\n",
    "\n",
    "# Calculate K matrix for all minus data\n",
    "for ii in range(nMinus):\n",
    "    for jj in range(nMinus):        \n",
    "        kMinus[ii,jj]= k(xMinus[:,ii],xMinus[:,jj])\n",
    "        \n",
    "# Calculate offset for kernel classification\n",
    "b = (np.sum(kMinus)/(nMinus**2)-np.sum(kPlus)/(nPlus**2))/2\n",
    "\n",
    "# Create gradient map- test kernel classifier over grid\n",
    "y_hat = np.zeros((n,n))\n",
    "k_x = np.zeros(n)\n",
    "\n",
    "for ii in range(n):\n",
    "    for jj in range(n):\n",
    "        u = np.vstack((g[ii],g[jj])).squeeze()\n",
    "        for kk in range(n):\n",
    "            k_x[kk]=k(x[:,kk],u)\n",
    "        y_hat[ii,jj]=np.dot(k_x,alpha)+b\n",
    "        \n",
    "# Plot kernel prediction map\n",
    "plt.figure()\n",
    "plt.contourf(g,g,y_hat,0)   \n",
    "plt.plot(xPlus[0,:],xPlus[1,:],'bo',label='Plus')\n",
    "plt.plot(xMinus[0,:],xMinus[1,:],'ro',label='Minus')\n",
    "plt.legend(loc='upper right', bbox_to_anchor=(1.25, 1.0));   "
   ]
  },
  {
   "cell_type": "markdown",
   "metadata": {},
   "source": [
    "Kernel 4: Hyperbolic Tangent (Sigmoid)\n",
    "\n",
    "$K(x,y) = \\tanh(\\kappa x^T y + \\theta)$"
   ]
  },
  {
   "cell_type": "code",
   "execution_count": 7,
   "metadata": {},
   "outputs": [
    {
     "data": {
      "image/png": "[encoded data removed]",
      "text/plain": [
       "<Figure size 432x288 with 1 Axes>"
      ]
     },
     "metadata": {
      "needs_background": "light"
     },
     "output_type": "display_data"
    }
   ],
   "source": [
    "# Empty kernel matrices\n",
    "kPlus = np.zeros((nPlus,nPlus))\n",
    "kMinus = np.zeros((nMinus,nMinus))\n",
    "\n",
    "def k(x,y):\n",
    "    kap = 1\n",
    "    tht = 3\n",
    "    return kernel.tanh(x,y,kap,tht)\n",
    "\n",
    "# Calculate K matrix for all plus data\n",
    "for ii in range(nPlus):\n",
    "    for jj in range(nPlus):\n",
    "        kPlus[ii,jj]= k(xPlus[:,ii],xPlus[:,jj])\n",
    "\n",
    "# Calculate K matrix for all minus data\n",
    "for ii in range(nMinus):\n",
    "    for jj in range(nMinus):        \n",
    "        kMinus[ii,jj]= k(xMinus[:,ii],xMinus[:,jj])\n",
    "        \n",
    "# Calculate offset for kernel classification\n",
    "b = (np.sum(kMinus)/(nMinus**2)-np.sum(kPlus)/(nPlus**2))/2\n",
    "\n",
    "# Create gradient map- test kernel classifier over grid\n",
    "y_hat = np.zeros((n,n))\n",
    "k_x = np.zeros(n)\n",
    "\n",
    "for ii in range(n):\n",
    "    for jj in range(n):\n",
    "        u = np.vstack((g[ii],g[jj])).squeeze()\n",
    "        for kk in range(n):\n",
    "            k_x[kk]=k(x[:,kk],u)\n",
    "        y_hat[ii,jj]=np.dot(k_x,alpha)+b\n",
    "        \n",
    "# Plot kernel prediction map\n",
    "plt.figure()\n",
    "plt.contourf(g,g,y_hat,0)   \n",
    "plt.plot(xPlus[0,:],xPlus[1,:],'bo',label='Plus')\n",
    "plt.plot(xMinus[0,:],xMinus[1,:],'ro',label='Minus')\n",
    "plt.legend(loc='upper right', bbox_to_anchor=(1.25, 1.0));   "
   ]
  },
  {
   "cell_type": "markdown",
   "metadata": {},
   "source": [
    "# Now try on the iris dataset"
   ]
  },
  {
   "cell_type": "code",
   "execution_count": 8,
   "metadata": {},
   "outputs": [],
   "source": [
    "# Same as above, but with real data\n",
    "from sklearn.datasets import load_iris\n",
    "from sklearn.metrics import accuracy_score\n",
    "\n",
    "iris = load_iris()\n",
    "data = iris.data[:, :4]  # Only take the first two features.\n",
    "labels = iris.target\n",
    "\n",
    "seto_ind = np.argwhere(labels==0) # setosa\n",
    "vers_ind = np.argwhere(labels==1) # versicolor\n",
    "virg_ind = np.argwhere(labels==2) # virginica\n",
    "\n",
    "seto = data[seto_ind,:]\n",
    "vers = data[vers_ind,:]\n",
    "virg = data[virg_ind,:]\n",
    "\n",
    "n_tr = 40 # Number of training points\n",
    "\n",
    "seto_train = seto[:n_tr,:]\n",
    "vers_train = vers[:n_tr,:]\n",
    "virg_train = virg[:n_tr,:]\n",
    "\n",
    "seto_test = seto[n_tr:,:]\n",
    "vers_test = vers[n_tr:,:]\n",
    "virg_test = virg[n_tr:,:]"
   ]
  },
  {
   "cell_type": "markdown",
   "metadata": {},
   "source": [
    "## Two-class classifier\n",
    "Ex. 1: Setosa vs. Versicolor - Linear Kernel"
   ]
  },
  {
   "cell_type": "code",
   "execution_count": 9,
   "metadata": {},
   "outputs": [
    {
     "name": "stdout",
     "output_type": "stream",
     "text": [
      "Accuracy:  1.0\n"
     ]
    },
    {
     "data": {
      "image/png": "[encoded data removed]",
      "text/plain": [
       "<Figure size 432x288 with 1 Axes>"
      ]
     },
     "metadata": {
      "needs_background": "light"
     },
     "output_type": "display_data"
    }
   ],
   "source": [
    "x = np.vstack((seto_train,vers_train))\n",
    "seto_vers_label = np.hstack(([1]*n_tr,[-1]*n_tr))\n",
    "\n",
    "k_seto = np.zeros((n_tr,n_tr))\n",
    "k_vers = np.zeros((n_tr,n_tr))\n",
    "\n",
    "for ii in range(n_tr):\n",
    "    for jj in range(n_tr):\n",
    "        k_seto[ii,jj]= kernel.linear(seto_train[ii,:,:],np.transpose(seto_train[jj,:,:]))\n",
    "        \n",
    "for ii in range(n_tr):\n",
    "    for jj in range(n_tr):        \n",
    "        k_vers[ii,jj]= kernel.linear(vers_train[ii,:,:],np.transpose(vers_train[jj,:,:]))\n",
    "\n",
    "b = (np.sum(k_vers)/(n_tr**2)-np.sum(k_seto)/(n_tr**2))/2\n",
    "alpha=np.hstack(((1/n_tr)*np.ones(n_tr),(-1/n_tr)*np.ones(n_tr)))\n",
    "\n",
    "# compute test data prediction\n",
    "n_seto_test = 50-n_tr\n",
    "n_vers_test = 50-n_tr\n",
    "\n",
    "n_t = n_seto_test + n_vers_test\n",
    "x_t = np.vstack((seto_test,vers_test))\n",
    "y_t = np.hstack(([1]*n_seto_test,[-1]*n_vers_test))\n",
    "\n",
    "k_test = np.zeros((2*n_tr,n_t))\n",
    "\n",
    "for ii in range(2*n_tr):\n",
    "    for jj in range(n_t):\n",
    "        k_test[ii,jj] = alpha[ii]*kernel.linear(x[ii,:,:],np.transpose(x_t[jj,:,:]))\n",
    "        \n",
    "y_est = np.sum(k_test,axis=0)+b\n",
    "prePlus = np.argwhere(y_est>0)\n",
    "preMinus = np.argwhere(y_est<0)\n",
    "y_est[y_est>=0]=1\n",
    "y_est[y_est<0]=-1\n",
    "rate = accuracy_score(y_t,y_est)\n",
    "print(\"Accuracy: \",rate)\n",
    "\n",
    "# plot prediction\n",
    "plt.plot(seto_train[:,:,0],seto_train[:,:,1],'bo')\n",
    "plt.plot(vers_train[:,:,0],vers_train[:,:,1],'ro')\n",
    "plt.plot(seto_test[:,:,0],seto_test[:,:,1],'bP',markersize=20)\n",
    "plt.plot(vers_test[:,:,0],vers_test[:,:,1],'rP',markersize=20)\n",
    "plt.plot(x_t[prePlus,0,0],x_t[prePlus,0,1],'+b',markersize=40)\n",
    "plt.plot(x_t[preMinus,0,0],x_t[preMinus,0,1],'+r',markersize=40)\n",
    "plt.legend(('Setosa Train','Versicolor Train',\n",
    "            'Setosa Test','Versicolor Test',\n",
    "            'Setosa Predict','Versicolor Predict'),\n",
    "          loc='upper right', bbox_to_anchor=(1.42, 1.03));"
   ]
  },
  {
   "cell_type": "markdown",
   "metadata": {},
   "source": [
    "## Two-class classifier\n",
    "Ex. 2: Versicolor vs. Virginica - Polynomial Kernel"
   ]
  },
  {
   "cell_type": "code",
   "execution_count": 10,
   "metadata": {},
   "outputs": [
    {
     "name": "stdout",
     "output_type": "stream",
     "text": [
      "Accuracy:  0.85\n"
     ]
    },
    {
     "data": {
      "image/png": "[encoded data removed]",
      "text/plain": [
       "<Figure size 432x288 with 1 Axes>"
      ]
     },
     "metadata": {
      "needs_background": "light"
     },
     "output_type": "display_data"
    }
   ],
   "source": [
    "x = np.vstack((vers_train,virg_train))\n",
    "vers_virg_label = np.hstack(([1]*n_tr,[-1]*n_tr))\n",
    "\n",
    "k_virg = np.zeros((n_tr,n_tr))\n",
    "k_vers = np.zeros((n_tr,n_tr))\n",
    "\n",
    "def k(x,y):\n",
    "    r = 1\n",
    "    n = 2\n",
    "    return kernel.polynomial(x,y,r,n)\n",
    "\n",
    "for ii in range(n_tr):\n",
    "    for jj in range(n_tr):\n",
    "        k_vers[ii,jj]= k(vers_train[ii,:,:],np.transpose(vers_train[jj,:,:]))\n",
    "        \n",
    "for ii in range(n_tr):\n",
    "    for jj in range(n_tr):        \n",
    "        k_virg[ii,jj]= k(virg_train[ii,:,:],np.transpose(virg_train[jj,:,:]))\n",
    "\n",
    "b = (np.sum(k_virg)/(n_tr**2)-np.sum(k_vers)/(n_tr**2))/2\n",
    "alpha=np.array(np.hstack(([1/n_tr]*n_tr,[-1/n_tr]*n_tr)))\n",
    "\n",
    "# compute test data prediction\n",
    "n_virg_test = 50-n_tr\n",
    "n_vers_test = 50-n_tr\n",
    "\n",
    "n_t = n_seto_test + n_vers_test\n",
    "x_t = np.vstack((vers_test,virg_test))\n",
    "y_t = np.hstack(([1]*n_vers_test,[-1]*n_virg_test))\n",
    "\n",
    "k_test = np.zeros((2*n_tr,n_t))\n",
    "\n",
    "for ii in range(2*n_tr):\n",
    "    for jj in range(n_t):\n",
    "        k_test[ii,jj] = alpha[ii]*k(x[ii,:,:],np.transpose(x_t[jj,:,:]))\n",
    "        \n",
    "y_est = np.sum(k_test,axis=0)+b\n",
    "prePlus = np.argwhere(y_est>0)\n",
    "preMinus = np.argwhere(y_est<0)\n",
    "\n",
    "y_est[y_est>=0]=1\n",
    "y_est[y_est<0]=-1\n",
    "rate = accuracy_score(y_t,y_est)\n",
    "print(\"Accuracy: \",rate)\n",
    "\n",
    "# plot prediction\n",
    "plt.plot(vers_train[:,:,0],vers_train[:,:,1],'bo')\n",
    "plt.plot(virg_train[:,:,0],virg_train[:,:,1],'ro')\n",
    "plt.plot(vers_test[:,:,0],vers_test[:,:,1],'bP',markersize=20)\n",
    "plt.plot(virg_test[:,:,0],virg_test[:,:,1],'rP',markersize=20)\n",
    "plt.plot(x_t[prePlus,0,0],x_t[prePlus,0,1],'+b',markersize=40)\n",
    "plt.plot(x_t[preMinus,0,0],x_t[preMinus,0,1],'+r',markersize=40)\n",
    "plt.legend(('Versicolor Train','Virginica Train',\n",
    "            'Versicolor Test','Virginica Test',\n",
    "            'Versicolor Predict','Virginica Predict'),\n",
    "          loc='upper right', bbox_to_anchor=(1.42, 1.03));"
   ]
  }
 ],
 "metadata": {
  "kernelspec": {
   "display_name": "Python 3",
   "language": "python",
   "name": "python3"
  },
  "language_info": {
   "codemirror_mode": {
    "name": "ipython",
    "version": 3
   },
   "file_extension": ".py",
   "mimetype": "text/x-python",
   "name": "python",
   "nbconvert_exporter": "python",
   "pygments_lexer": "ipython3",
   "version": "3.7.3"
  },
  "varInspector": {
   "cols": {
    "lenName": 16,
    "lenType": 16,
    "lenVar": 40
   },
   "kernels_config": {
    "python": {
     "delete_cmd_postfix": "",
     "delete_cmd_prefix": "del ",
     "library": "var_list.py",
     "varRefreshCmd": "print(var_dic_list())"
    },
    "r": {
     "delete_cmd_postfix": ") ",
     "delete_cmd_prefix": "rm(",
     "library": "var_list.r",
     "varRefreshCmd": "cat(var_dic_list()) "
    }
   },
   "types_to_exclude": [
    "module",
    "function",
    "builtin_function_or_method",
    "instance",
    "_Feature"
   ],
   "window_display": false
  }
 },
 "nbformat": 4,
 "nbformat_minor": 2
}
