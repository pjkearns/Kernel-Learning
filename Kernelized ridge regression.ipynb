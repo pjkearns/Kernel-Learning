{
 "cells": [
  {
   "cell_type": "code",
   "execution_count": 18,
   "metadata": {},
   "outputs": [],
   "source": [
    "import random\n",
    "import time\n",
    "import numpy as np\n",
    "from numpy import random as np_rand\n",
    "import matplotlib.pyplot as plt\n",
    "from numpy.linalg import inv\n",
    "from numpy import matmul as mm\n",
    "from numpy import argwhere as aw\n",
    "from sklearn.datasets import fetch_openml\n",
    "from sklearn.metrics import accuracy_score\n",
    "\n",
    "import kernels as kernel"
   ]
  },
  {
   "cell_type": "code",
   "execution_count": 19,
   "metadata": {},
   "outputs": [],
   "source": [
    "def krr(X,y,lam,X_t,k):\n",
    "    # X is training data, y is training labels, X_t is the test data matrix\n",
    "    # Lam is the tuning parameter for norm fit\n",
    "    # k is the kernel to use\n",
    "    N = X.shape[1]\n",
    "    K = np.zeros((N,N))\n",
    "    \n",
    "    # Generate the training K matrix\n",
    "    start_train = time.time()\n",
    "    for ii in range(N):\n",
    "        for jj in range(N):\n",
    "            K[ii,jj] = k(X[:,ii],X[:,jj])\n",
    "    \n",
    "    t_train = time.time() - start_train\n",
    "    \n",
    "    N_t = X_t.shape[1]\n",
    "    K_t = np.zeros((N,N_t))\n",
    "    # Generate test K matrix\n",
    "    start_test = time.time()\n",
    "    for ii in range(N):\n",
    "        for jj in range(N_t):\n",
    "            K_t[ii,jj] = k(X[:,ii],X_t[:,jj])\n",
    "    \n",
    "    # Classify test data - minimum of cost function    \n",
    "    y_t = mm(y,mm(inv((K+lam*np.identity(N))),K_t))\n",
    "    t_test = time.time() - start_test\n",
    "    return y_t, t_train, t_test"
   ]
  },
  {
   "cell_type": "markdown",
   "metadata": {},
   "source": [
    "# Try KRR on simulated data"
   ]
  },
  {
   "cell_type": "code",
   "execution_count": 20,
   "metadata": {},
   "outputs": [
    {
     "data": {
      "image/png": "[encoded data removed]",
      "text/plain": [
       "<Figure size 432x288 with 1 Axes>"
      ]
     },
     "metadata": {
      "needs_background": "light"
     },
     "output_type": "display_data"
    }
   ],
   "source": [
    "# Set number of training data\n",
    "nPlus = 20\n",
    "nMinus = 20\n",
    "\n",
    "# Create training data\n",
    "xPlus = np_rand.normal(1,1,(2,nPlus))\n",
    "xMinus = np_rand.normal(-1,2,(2,nMinus))\n",
    "x = np.hstack((xPlus,xMinus))\n",
    "y = np.hstack(([1]*nPlus,[-1]*nMinus))\n",
    "\n",
    "# Test data\n",
    "nPlus_t = 10\n",
    "nMinus_t = 10\n",
    "\n",
    "xPlus_t = np_rand.normal(1,1,(2,nPlus_t))\n",
    "xMinus_t = np_rand.normal(-1,2,(2,nMinus_t))\n",
    "x_t = np.hstack((xPlus_t,xMinus_t))\n",
    "y_t = np.hstack(([1]*nPlus_t,[-1]*nMinus_t))\n",
    "\n",
    "# Peform KRR to get label estimates\n",
    "# Tuning parameter for norm\n",
    "lam = 0.05\n",
    "y_e, tmp, tmp = krr(x,y,lam,x_t,kernel.linear)\n",
    "\n",
    "# predictions\n",
    "prePlus  = np.argwhere(y_e>=0)\n",
    "preMinus = np.argwhere(y_e<0)\n",
    "\n",
    "y_e[preMinus]=-1\n",
    "y_e[prePlus]=1\n",
    "\n",
    "# performance\n",
    "rate = accuracy_score(y_t,y_e)\n",
    "\n",
    "# Plot training data, test data, and predictions\n",
    "plt.title(\"Accuracy = %s\"%(rate))\n",
    "plt.plot(xPlus[0,:],xPlus[1,:],'bo',label='Positive Train')\n",
    "plt.plot(xMinus[0,:],xMinus[1,:],'ro',label='Negative Train')\n",
    "plt.plot(xPlus_t[0,:],xPlus_t[1,:],'bP',markersize=20,label='Positive Test')\n",
    "plt.plot(xMinus_t[0,:],xMinus_t[1,:],'rP',markersize=20,label='Negative Test')\n",
    "plt.plot(x_t[0,prePlus],x_t[1,prePlus],'+b',markersize=40,label='Positive Predict')\n",
    "plt.plot(x_t[0,preMinus],x_t[1,preMinus],'+r',markersize=40,label='Negative Predict')\n",
    "plt.legend(loc='upper right',bbox_to_anchor=(1.43, 1.0));\n",
    "#plt.legend('Positive Train','Negative Train','Positive Test','Negative Test','Positive Predict','Negative Predict')"
   ]
  },
  {
   "cell_type": "markdown",
   "metadata": {},
   "source": [
    "# Try KRR on MNIST data"
   ]
  },
  {
   "cell_type": "code",
   "execution_count": 4,
   "metadata": {},
   "outputs": [],
   "source": [
    "#load the MNIST data set\n",
    "X, y = fetch_openml('mnist_784', version=1, return_X_y=True)\n",
    "y = np.array(list(map(int,y)))"
   ]
  },
  {
   "cell_type": "code",
   "execution_count": 5,
   "metadata": {},
   "outputs": [],
   "source": [
    "zeros  = X[y==0]\n",
    "other  = X[y!=0]\n",
    "\n",
    "ones   = X[y==1]\n",
    "twos   = X[y==2]\n",
    "threes = X[y==3]\n",
    "fours  = X[y==4]\n",
    "fives  = X[y==5]\n",
    "sixes  = X[y==6]\n",
    "sevens = X[y==7]\n",
    "eights = X[y==8]\n",
    "nines  = X[y==9]\n",
    "\n",
    "# All possible indices for X\n",
    "zeros_ind = list(range(0,len(zeros),1))\n",
    "ones_ind  = list(range(0,len(ones),1))\n",
    "other_ind = list(range(0,len(other),1))"
   ]
  },
  {
   "cell_type": "markdown",
   "metadata": {},
   "source": [
    "### Plot performance and training/test time vs. training set size"
   ]
  },
  {
   "cell_type": "code",
   "execution_count": 15,
   "metadata": {},
   "outputs": [
    {
     "name": "stdout",
     "output_type": "stream",
     "text": [
      "Training size: 100.  Accuracy: 0.975. T_train: 0.09. T_test: 0.09.\n",
      "Training size: 200.  Accuracy: 0.805. T_train: 0.35. T_test: 0.19.\n",
      "Training size: 300.  Accuracy: 0.915. T_train: 0.82. T_test: 0.31.\n",
      "Training size: 400.  Accuracy: 0.985. T_train: 1.50. T_test: 0.51.\n",
      "Training size: 500.  Accuracy: 0.97. T_train: 2.31. T_test: 0.57.\n",
      "Training size: 600.  Accuracy: 0.985. T_train: 3.38. T_test: 0.67.\n",
      "Training size: 700.  Accuracy: 0.975. T_train: 4.63. T_test: 0.71.\n",
      "Training size: 800.  Accuracy: 0.97. T_train: 6.10. T_test: 0.92.\n",
      "Training size: 900.  Accuracy: 0.98. T_train: 7.62. T_test: 1.19.\n",
      "Training size: 1000.  Accuracy: 0.99. T_train: 9.49. T_test: 1.19.\n"
     ]
    },
    {
     "data": {
      "image/png": "[encoded data removed]",
      "text/plain": [
       "<Figure size 720x360 with 2 Axes>"
      ]
     },
     "metadata": {
      "needs_background": "light"
     },
     "output_type": "display_data"
    }
   ],
   "source": [
    "random.seed(2)\n",
    "train_size = [100, 200, 300, 400, 500, 600, 700, 800, 900, 1000]\n",
    "accr = []\n",
    "t_tr = []\n",
    "t_ts = []\n",
    "use_ones = True\n",
    "for n_tr in train_size:\n",
    "    # Random sample of the data for a given length\n",
    "    z_tr_ind = random.sample(zeros_ind,n_tr)\n",
    "    zeros_tr = zeros[z_tr_ind].transpose()\n",
    "    # Number of test points\n",
    "    \n",
    "    n_t = 100\n",
    "    # Random sample of test data \n",
    "    z_t_ind = random.sample(zeros_ind,n_t)\n",
    "    zeros_t = zeros[z_t_ind].transpose()\n",
    "\n",
    "    if use_ones:\n",
    "        o_tr_ind = random.sample(ones_ind,n_tr)\n",
    "        other_tr = ones[o_tr_ind].transpose()\n",
    "        o_t_ind  = random.sample(ones_ind,n_t)\n",
    "        other_t  = ones[o_t_ind].transpose()\n",
    "\n",
    "    else:\n",
    "        o_tr_ind = random.sample(other_ind,n_tr)\n",
    "        other_tr = other[o_tr_ind].transpose()\n",
    "        o_t_ind  = random.sample(other_ind,n_t)\n",
    "        other_t  = other[o_t_ind].transpose()\n",
    "\n",
    "    # Training data and labels\n",
    "    x_tr = np.hstack((zeros_tr,other_tr))\n",
    "    y_tr = np.hstack(([0]*n_tr,[1]*n_tr))\n",
    "\n",
    "    x_t = np.hstack((zeros_t,other_t))\n",
    "    y_t = np.hstack(([0]*n_t,[1]*n_t))\n",
    "\n",
    "    y_e, t_train, t_test = krr(x_tr,y_tr,lam,x_t,kernel.linear)\n",
    "\n",
    "    y_e[y_e<=0.5] = 0\n",
    "    y_e[y_e>0.5]  = 1\n",
    "\n",
    "    rate = accuracy_score(y_t,y_e)\n",
    "    accr.append(rate)\n",
    "    t_tr.append(t_train)\n",
    "    t_ts.append(t_test)\n",
    "    print(\"Training size: %s.  Accuracy: %s. T_train: %.2f. T_test: %.2f.\"\n",
    "          %(n_tr,rate,t_train,t_test))\n",
    "\n",
    "plt.figure(figsize=(10,5))\n",
    "plt.subplot(121) \n",
    "plt.title(\"Accuracy vs. Training Set Size\")\n",
    "plt.plot(train_size,accr,label='Accuracy')\n",
    "# plt.ylim(0,1)\n",
    "plt.subplot(122)\n",
    "plt.title(\"Computation Time vs. Training Set Size\")\n",
    "plt.plot(train_size,t_tr,label='Training Time')\n",
    "plt.plot(train_size,t_ts,label='Testing Time')\n",
    "plt.legend();"
   ]
  }
 ],
 "metadata": {
  "kernelspec": {
   "display_name": "Python 3",
   "language": "python",
   "name": "python3"
  },
  "language_info": {
   "codemirror_mode": {
    "name": "ipython",
    "version": 3
   },
   "file_extension": ".py",
   "mimetype": "text/x-python",
   "name": "python",
   "nbconvert_exporter": "python",
   "pygments_lexer": "ipython3",
   "version": "3.6.9"
  },
  "varInspector": {
   "cols": {
    "lenName": 16,
    "lenType": 16,
    "lenVar": 40
   },
   "kernels_config": {
    "python": {
     "delete_cmd_postfix": "",
     "delete_cmd_prefix": "del ",
     "library": "var_list.py",
     "varRefreshCmd": "print(var_dic_list())"
    },
    "r": {
     "delete_cmd_postfix": ") ",
     "delete_cmd_prefix": "rm(",
     "library": "var_list.r",
     "varRefreshCmd": "cat(var_dic_list()) "
    }
   },
   "position": {
    "height": "358.85px",
    "left": "519.5px",
    "right": "20px",
    "top": "133px",
    "width": "440.5px"
   },
   "types_to_exclude": [
    "module",
    "function",
    "builtin_function_or_method",
    "instance",
    "_Feature"
   ],
   "window_display": false
  }
 },
 "nbformat": 4,
 "nbformat_minor": 2
}
